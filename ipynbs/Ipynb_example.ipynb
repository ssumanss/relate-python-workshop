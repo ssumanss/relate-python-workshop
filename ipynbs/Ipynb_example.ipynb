{
 "cells": [
  {
   "cell_type": "markdown",
   "metadata": {},
   "source": [
    "In the following cell, a function named `plus` is defined to return the sum of two numbers."
   ]
  },
  {
   "cell_type": "code",
   "execution_count": 1,
   "metadata": {},
   "outputs": [],
   "source": [
    "def plus(x, y):\n",
    "    return x + y"
   ]
  },
  {
   "cell_type": "markdown",
   "metadata": {},
   "source": [
    "Let's call it."
   ]
  },
  {
   "cell_type": "code",
   "execution_count": 2,
   "metadata": {},
   "outputs": [
    {
     "name": "stdout",
     "output_type": "stream",
     "text": [
      "101.0\n",
      "7\n"
     ]
    }
   ],
   "source": [
    "print(plus(100.0, 1))\n",
    "print(plus(2, 5))"
   ]
  },
  {
   "cell_type": "markdown",
   "metadata": {},
   "source": [
    "The following is an axes_grid example ([source](http://matplotlib.org/examples/axes_grid/parasite_simple2.html)) using `Matplotlib`. To diplay the plot in Ipython notebook inline, your need to put `%matplotlib inline` in the script."
   ]
  },
  {
   "cell_type": "code",
   "execution_count": 1,
   "metadata": {
    "scrolled": true
   },
   "outputs": [
    {
     "data": {
      "image/png": "[encoded data removed]",
      "text/plain": [
       "<Figure size 432x288 with 1 Axes>"
      ]
     },
     "metadata": {
      "needs_background": "light"
     },
     "output_type": "display_data"
    }
   ],
   "source": [
    "# Ref: http://matplotlib.org/examples/axes_grid/parasite_simple2.html\n",
    "\n",
    "%matplotlib inline\n",
    "\n",
    "import matplotlib.transforms as mtransforms\n",
    "import matplotlib.pyplot as plt\n",
    "from mpl_toolkits.axes_grid1.parasite_axes import SubplotHost\n",
    "\n",
    "obs = [[\"01_S1\", 3.88, 0.14, 1970, 63],\n",
    "       [\"01_S4\", 5.6, 0.82, 1622, 150],\n",
    "       [\"02_S1\", 2.4, 0.54, 1570, 40],\n",
    "       [\"03_S1\", 4.1, 0.62, 2380, 170]]\n",
    "\n",
    "\n",
    "fig = plt.figure()\n",
    "\n",
    "ax_kms = SubplotHost(fig, 1, 1, 1, aspect=1.)\n",
    "\n",
    "# angular proper motion(\"/yr) to linear velocity(km/s) at distance=2.3kpc\n",
    "pm_to_kms = 1./206265.*2300*3.085e18/3.15e7/1.e5\n",
    "\n",
    "aux_trans = mtransforms.Affine2D().scale(pm_to_kms, 1.)\n",
    "ax_pm = ax_kms.twin(aux_trans)\n",
    "ax_pm.set_viewlim_mode(\"transform\")\n",
    "\n",
    "fig.add_subplot(ax_kms)\n",
    "\n",
    "for n, ds, dse, w, we in obs:\n",
    "    time = ((2007 + (10. + 4/30.)/12) - 1988.5)\n",
    "    v = ds / time * pm_to_kms\n",
    "    ve = dse / time * pm_to_kms\n",
    "    ax_kms.errorbar([v], [w], xerr=[ve], yerr=[we], color=\"k\")\n",
    "\n",
    "\n",
    "ax_kms.axis[\"bottom\"].set_label(\"Linear velocity at 2.3 kpc [km/s]\")\n",
    "ax_kms.axis[\"left\"].set_label(\"FWHM [km/s]\")\n",
    "ax_pm.axis[\"top\"].set_label(r\"Proper Motion [$''$/yr]\")\n",
    "ax_pm.axis[\"top\"].label.set_visible(True)\n",
    "ax_pm.axis[\"right\"].major_ticklabels.set_visible(False)\n",
    "\n",
    "ax_kms.set_xlim(950, 3700)\n",
    "ax_kms.set_ylim(950, 3100)\n",
    "# xlim and ylim of ax_pms will be automatically adjusted.\n",
    "\n",
    "plt.draw()\n",
    "plt.show()"
   ]
  },
  {
   "cell_type": "code",
   "execution_count": null,
   "metadata": {},
   "outputs": [],
   "source": []
  }
 ],
 "metadata": {
  "kernelspec": {
   "display_name": "Python 3.8.10 64-bit ('mkdocs')",
   "language": "python",
   "name": "python3"
  },
  "language_info": {
   "codemirror_mode": {
    "name": "ipython",
    "version": 3
   },
   "file_extension": ".py",
   "mimetype": "text/x-python",
   "name": "python",
   "nbconvert_exporter": "python",
   "pygments_lexer": "ipython3",
   "version": "3.8.10"
  },
  "vscode": {
   "interpreter": {
    "hash": "7ac6b25579b002d9f9948cd32a121971fa34d65e0c1a1a11d5956dbf8a9f2875"
   }
  }
 },
 "nbformat": 4,
 "nbformat_minor": 2
}
